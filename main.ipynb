{
 "cells": [
  {
   "cell_type": "code",
   "execution_count": 3,
   "metadata": {},
   "outputs": [
    {
     "data": {
      "text/plain": [
       "Age                       29\n",
       "Gender                    19\n",
       "Blood Pressure            19\n",
       "Cholesterol Level         30\n",
       "Exercise Habits           25\n",
       "Smoking                   25\n",
       "Family Heart Disease      21\n",
       "Diabetes                  30\n",
       "BMI                       22\n",
       "High Blood Pressure       26\n",
       "Low HDL Cholesterol       25\n",
       "High LDL Cholesterol      26\n",
       "Alcohol Consumption     2586\n",
       "Stress Level              22\n",
       "Sleep Hours               25\n",
       "Sugar Consumption         30\n",
       "Triglyceride Level        26\n",
       "Fasting Blood Sugar       22\n",
       "CRP Level                 26\n",
       "Homocysteine Level        20\n",
       "Heart Disease Status       0\n",
       "dtype: int64"
      ]
     },
     "execution_count": 3,
     "metadata": {},
     "output_type": "execute_result"
    }
   ],
   "source": [
    "import pandas as pd\n",
    "import numpy as np\n",
    "import matplotlib.pyplot as plt\n",
    "\n",
    "data_set = pd.read_csv(\"heart_disease.csv\")\n",
    "\n",
    "data_set.isna().sum()"
   ]
  }
 ],
 "metadata": {
  "kernelspec": {
   "display_name": ".venv",
   "language": "python",
   "name": "python3"
  },
  "language_info": {
   "codemirror_mode": {
    "name": "ipython",
    "version": 3
   },
   "file_extension": ".py",
   "mimetype": "text/x-python",
   "name": "python",
   "nbconvert_exporter": "python",
   "pygments_lexer": "ipython3",
   "version": "3.13.2"
  }
 },
 "nbformat": 4,
 "nbformat_minor": 2
}
